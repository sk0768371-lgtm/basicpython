{
 "cells": [
  {
   "cell_type": "raw",
   "id": "334930f9-b2b3-4109-aacd-ff948a20d404",
   "metadata": {},
   "source": [
    "\n",
    "'''\n",
    "Python basic Questions\n",
    "\n",
    "1. What is Python, and why is it popular?\n",
    "\tPython is a high-level, interpreted programming language known for its simplicity and readability. Popularity reasons like it has large standard library, strong community support, used in data science, AI, web development.\n",
    "\n",
    "2. What is an interpreter in Python?\n",
    "\tAn interpreter executes Python code line by line, converting it into machine code at runtime. Unlike compiled languages, you don’t need to compile Python before execution.\n",
    "\n",
    "3. What are pre-defined keywords in Python?\n",
    "\tKeywords are reserved words with special meaning in Python (e.g., if, else, for, while, def, return, etc.). They cannot be used as identifiers/variable names.\n",
    "\n",
    "4. Can keywords be used as variable names?\n",
    "\tNo. Since keywords have predefined meanings, they cannot be used as variable names.\n",
    "\n",
    "5. What is mutability in Python?\n",
    "\tMutability refers to whether an object can be changed after creation.\n",
    "•\tMutable: Lists, Sets, Dictionaries\n",
    "•\tImmutable: Tuples, Strings, Integers\n",
    "\n",
    "6. Why are lists mutable, but tuples are immutable?\n",
    "\tLists allow modification (adding/removing elements), so they are mutable.\n",
    "\tTuples are designed to be fixed collections of items, so they are immutable.\n",
    "\n",
    "7. What is the difference between == and is operators in Python?\n",
    "== → Compares values (content).\n",
    "is → Compares identity (whether two objects refer to the same memory location).\n",
    "\n",
    "8. What are logical operators in Python?\n",
    "and → Returns True if both conditions are True.\n",
    "or → Returns True if at least one condition is True.\n",
    "not → Reverses the Boolean value. It returns not(True) as False and not(False) as True.\n",
    "9. What is type casting in Python?\n",
    "Converting one data type into another.\n",
    "Implicit casting: Automatically done by Python (e.g., int + float → float).\n",
    "Explicit casting: Done manually using functions like int(), float(), str().\n",
    "\n",
    "10. What is the difference between implicit and explicit type casting?\n",
    "Implicit: Python automatically converts (safe conversions).\n",
    "Explicit: Programmer manually converts using type functions.\n",
    "\n",
    "11. What is the purpose of conditional statements in Python?\n",
    "They allow decision-making in code (executing certain blocks based on conditions). Example: if, elif, else.\n",
    "\n",
    "12. How does the elif statement work?\n",
    "It checks multiple conditions sequentially after an if. If one condition is True, it executes its block and skips the rest.\n",
    "\n",
    "13. What is the difference between for and while loops?\n",
    "for loop → Iterates over a sequence (range, list, string).\n",
    "while loop → Runs until a condition becomes False.\n",
    "\n",
    "14. Describe a scenario where a while loop is more suitable than a for loop.\n",
    "When the number of iterations is unknown beforehand. \n",
    "For example: reading user input until they type \"exit\".\n",
    "\n",
    "\n",
    "\n",
    "'''"
   ]
  },
  {
   "cell_type": "code",
   "execution_count": null,
   "id": "8917e1b2-9835-48e2-9ef5-341a0a9599fa",
   "metadata": {},
   "outputs": [],
   "source": []
  },
  {
   "cell_type": "code",
   "execution_count": 15,
   "id": "49dc990b-9067-4005-80f0-8d760a2fe5da",
   "metadata": {},
   "outputs": [
    {
     "name": "stdout",
     "output_type": "stream",
     "text": [
      "Hello, World!\n"
     ]
    }
   ],
   "source": [
    "\n",
    "# prectical questions 1\n",
    "\n",
    "print(\"Hello, World!\")"
   ]
  },
  {
   "cell_type": "code",
   "execution_count": null,
   "id": "ad26770f-92d7-4bed-8095-103dc72281b2",
   "metadata": {},
   "outputs": [],
   "source": [
    "# prectical questions 1"
   ]
  },
  {
   "cell_type": "code",
   "execution_count": 17,
   "id": "6d039f11-1cb1-496e-88de-75de9d00b53f",
   "metadata": {},
   "outputs": [
    {
     "name": "stdout",
     "output_type": "stream",
     "text": [
      "['False', 'None', 'True', 'and', 'as', 'assert', 'async', 'await', 'break', 'class', 'continue', 'def', 'del', 'elif', 'else', 'except', 'finally', 'for', 'from', 'global', 'if', 'import', 'in', 'is', 'lambda', 'nonlocal', 'not', 'or', 'pass', 'raise', 'return', 'try', 'while', 'with', 'yield']\n"
     ]
    }
   ],
   "source": [
    "import keyword\n",
    "print(keyword.kwlist)"
   ]
  },
  {
   "cell_type": "code",
   "execution_count": null,
   "id": "48185fc6-fa65-46b8-b55f-ecfbdb182649",
   "metadata": {},
   "outputs": [],
   "source": [
    "# prectical questions 3"
   ]
  },
  {
   "cell_type": "code",
   "execution_count": 16,
   "id": "7e0f9407-e891-431b-b82e-10a14006c52e",
   "metadata": {},
   "outputs": [
    {
     "name": "stdout",
     "output_type": "stream",
     "text": [
      "My name is Nikita and I am 26 years old.\n"
     ]
    }
   ],
   "source": [
    "name = \"Nikita\"\n",
    "age = 26\n",
    "print(f\"My name is {name} and I am {age} years old.\")"
   ]
  },
  {
   "cell_type": "code",
   "execution_count": null,
   "id": "8aab2698-02ad-4b72-9ce3-3e06925ef641",
   "metadata": {},
   "outputs": [],
   "source": [
    "# prectical questions 4"
   ]
  },
  {
   "cell_type": "code",
   "execution_count": 18,
   "id": "27796207-e3c9-483c-956a-e7255b550635",
   "metadata": {},
   "outputs": [
    {
     "name": "stdout",
     "output_type": "stream",
     "text": [
      "True\n"
     ]
    }
   ],
   "source": [
    "import keyword\n",
    "word = \"for\"\n",
    "print(keyword.iskeyword(word))"
   ]
  },
  {
   "cell_type": "code",
   "execution_count": null,
   "id": "873f832d-25b3-4879-aecc-2249a9d750f5",
   "metadata": {},
   "outputs": [],
   "source": [
    "# prectical questions 5"
   ]
  },
  {
   "cell_type": "code",
   "execution_count": 19,
   "id": "1e9a707e-12ae-4584-be20-0a181bcf9697",
   "metadata": {},
   "outputs": [
    {
     "name": "stdout",
     "output_type": "stream",
     "text": [
      "[10, 2, 3]\n"
     ]
    }
   ],
   "source": [
    "my_list = [1, 2, 3]\n",
    "my_tuple = (1, 2, 3)\n",
    "\n",
    "my_list[0] = 10   # Works\n",
    "# my_tuple[0] = 10  # Error\n",
    "\n",
    "print(my_list)"
   ]
  },
  {
   "cell_type": "code",
   "execution_count": null,
   "id": "248bb3ce-eacc-41da-9903-cfccb0eeb7de",
   "metadata": {},
   "outputs": [],
   "source": [
    "# prectical questions 6"
   ]
  },
  {
   "cell_type": "code",
   "execution_count": 20,
   "id": "0bc1ef7a-632a-4e9a-bf97-30c9bd841763",
   "metadata": {},
   "outputs": [
    {
     "name": "stdout",
     "output_type": "stream",
     "text": [
      "[1, 2, 3, 100] (1, 2, 3, 100)\n"
     ]
    }
   ],
   "source": [
    "def modify_list(lst):\n",
    "    lst.append(100)\n",
    "\n",
    "def modify_tuple(tpl):\n",
    "    tpl += (100,)\n",
    "    return tpl\n",
    "\n",
    "a = [1,2,3]\n",
    "b = (1,2,3)\n",
    "modify_list(a)\n",
    "b = modify_tuple(b)\n",
    "print(a, b)"
   ]
  },
  {
   "cell_type": "code",
   "execution_count": 21,
   "id": "0227cec7-1ef6-4013-9731-ae8130a5f758",
   "metadata": {},
   "outputs": [
    {
     "name": "stdout",
     "output_type": "stream",
     "text": [
      "Sum: 15\n",
      "Difference: 5\n",
      "Product: 50\n",
      "Division: 2.0\n"
     ]
    }
   ],
   "source": [
    "# prectical questions 7\n",
    "\n",
    "a = 10\n",
    "b = 5\n",
    "print(\"Sum:\", a+b)\n",
    "print(\"Difference:\", a-b)\n",
    "print(\"Product:\", a*b)\n",
    "print(\"Division:\", a/b)"
   ]
  },
  {
   "cell_type": "code",
   "execution_count": null,
   "id": "a92ae4fb-db5c-44d9-87bf-c5e8279bddac",
   "metadata": {},
   "outputs": [],
   "source": [
    "# prectical questions 8"
   ]
  },
  {
   "cell_type": "code",
   "execution_count": 22,
   "id": "b0f0ba7a-9491-4c19-8dfa-71a1e3c74a3a",
   "metadata": {},
   "outputs": [
    {
     "name": "stdout",
     "output_type": "stream",
     "text": [
      "False\n",
      "True\n",
      "False\n"
     ]
    }
   ],
   "source": [
    "x, y = True, False\n",
    "print(x and y)\n",
    "print(x or y)\n",
    "print(not x)"
   ]
  },
  {
   "cell_type": "code",
   "execution_count": null,
   "id": "3c1a1428-2ac5-4f06-9838-ddbfa810f833",
   "metadata": {},
   "outputs": [],
   "source": [
    "# prectical questions 9"
   ]
  },
  {
   "cell_type": "code",
   "execution_count": 23,
   "id": "f6cf96aa-6e97-4218-b826-6dbe4108ace7",
   "metadata": {},
   "outputs": [
    {
     "name": "stdin",
     "output_type": "stream",
     "text": [
      "Enter something:  9\n"
     ]
    },
    {
     "name": "stdout",
     "output_type": "stream",
     "text": [
      "10 10.5 True\n"
     ]
    }
   ],
   "source": [
    "s = input(\"Enter something: \")\n",
    "print(int(\"10\"), float(\"10.5\"), bool(\"True\"))"
   ]
  },
  {
   "cell_type": "code",
   "execution_count": null,
   "id": "c9bd822f-f169-42f1-84db-8bc9cc774608",
   "metadata": {},
   "outputs": [],
   "source": [
    "# prectical questions 10"
   ]
  },
  {
   "cell_type": "code",
   "execution_count": 24,
   "id": "0043e158-efb1-44d0-8865-7fdad04a66a2",
   "metadata": {},
   "outputs": [
    {
     "name": "stdout",
     "output_type": "stream",
     "text": [
      "[1, 2, 3]\n"
     ]
    }
   ],
   "source": [
    "lst = [\"1\", \"2\", \"3\"]\n",
    "lst_int = list(map(int, lst))\n",
    "print(lst_int)"
   ]
  },
  {
   "cell_type": "code",
   "execution_count": null,
   "id": "8c8fbda5-3649-4bd6-864b-398669f22c2b",
   "metadata": {},
   "outputs": [],
   "source": [
    "# prectical questions 11"
   ]
  },
  {
   "cell_type": "code",
   "execution_count": 25,
   "id": "083a73ed-11c1-421d-8c1a-8df909c0eab4",
   "metadata": {},
   "outputs": [
    {
     "name": "stdin",
     "output_type": "stream",
     "text": [
      "Enter a number:  7\n"
     ]
    },
    {
     "name": "stdout",
     "output_type": "stream",
     "text": [
      "Positive\n",
      "1\n",
      "2\n",
      "3\n",
      "4\n",
      "5\n",
      "6\n",
      "7\n",
      "8\n",
      "9\n",
      "10\n"
     ]
    }
   ],
   "source": [
    "num = int(input(\"Enter a number: \"))\n",
    "if num > 0:\n",
    "    print(\"Positive\")\n",
    "elif num < 0:\n",
    "    print(\"Negative\")\n",
    "else:\n",
    "    print(\"Zero\")\n",
    "\n",
    "\n",
    "for i in range(1, 11):\n",
    "    print(i)\n"
   ]
  },
  {
   "cell_type": "code",
   "execution_count": null,
   "id": "63e08a5a-98cd-4eb3-a69f-8ea64ad675ef",
   "metadata": {},
   "outputs": [],
   "source": [
    "# prectical questions 12"
   ]
  },
  {
   "cell_type": "code",
   "execution_count": 26,
   "id": "a702fe83-c195-4fd7-beef-093d9a70ce0c",
   "metadata": {},
   "outputs": [
    {
     "name": "stdout",
     "output_type": "stream",
     "text": [
      "650\n",
      "olleh\n"
     ]
    }
   ],
   "source": [
    "print(sum(i for i in range(1, 51) if i % 2 == 0))\n",
    "\n",
    "s = \"hello\"\n",
    "rev = \"\"\n",
    "i = len(s) - 1\n",
    "while i >= 0:\n",
    "    rev += s[i]\n",
    "    i -= 1\n",
    "print(rev)"
   ]
  },
  {
   "cell_type": "code",
   "execution_count": 27,
   "id": "60329578-16d0-4383-9b4e-f8df5c4b844f",
   "metadata": {},
   "outputs": [
    {
     "name": "stdout",
     "output_type": "stream",
     "text": [
      "120\n"
     ]
    },
    {
     "data": {
      "text/plain": [
       "8"
      ]
     },
     "execution_count": 27,
     "metadata": {},
     "output_type": "execute_result"
    }
   ],
   "source": [
    "# prectical questions 13\n",
    "n = 5\n",
    "fact = 1\n",
    "while n > 0:\n",
    "    fact *= n\n",
    "    n -= 1\n",
    "print(fact)\n",
    "\n",
    "\n",
    "\n",
    "a = \"pwskills\"\n",
    "\n",
    "len(a)\n"
   ]
  },
  {
   "cell_type": "code",
   "execution_count": null,
   "id": "0de11fda-2088-4c9e-b559-bc791e04988c",
   "metadata": {},
   "outputs": [],
   "source": []
  }
 ],
 "metadata": {
  "kernelspec": {
   "display_name": "Python 3 (ipykernel)",
   "language": "python",
   "name": "python3"
  },
  "language_info": {
   "codemirror_mode": {
    "name": "ipython",
    "version": 3
   },
   "file_extension": ".py",
   "mimetype": "text/x-python",
   "name": "python",
   "nbconvert_exporter": "python",
   "pygments_lexer": "ipython3",
   "version": "3.13.7"
  }
 },
 "nbformat": 4,
 "nbformat_minor": 5
}
